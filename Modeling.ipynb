{
 "cells": [
  {
   "cell_type": "code",
   "execution_count": null,
   "metadata": {},
   "outputs": [],
   "source": []
  },
  {
   "cell_type": "code",
   "execution_count": null,
   "metadata": {},
   "outputs": [],
   "source": [
    "import os, sys, pickle, time\n",
    "import pandas as pd\n",
    "sys.path.append('./src/')\n",
    "import oncofinder_v0 as ocf\n",
    "\n",
    "import matplotlib.pyplot as plt\n",
    "import numpy as np\n",
    "\n",
    "import umap\n",
    "from sklearn.manifold import TSNE\n",
    "\n",
    "from lightgbm import LGBMClassifier\n",
    "from sklearn.linear_model import LogisticRegression\n",
    "from sklearn.ensemble import RandomForestClassifier, VotingClassifier\n",
    "from sklearn.multiclass import OneVsRestClassifier\n",
    "from sklearn.model_selection import cross_val_score\n",
    "from sklearn.model_selection import GridSearchCV\n",
    "from sklearn.svm import SVC\n",
    "from sklearn.metrics import confusion_matrix, classification_report\n",
    "from sklearn import metrics"
   ]
  },
  {
   "cell_type": "code",
   "execution_count": 2,
   "metadata": {},
   "outputs": [
    {
     "data": {
      "text/plain": [
       "'3.1.1'"
      ]
     },
     "execution_count": 2,
     "metadata": {},
     "output_type": "execute_result"
    }
   ],
   "source": [
    "import lightgbm\n",
    "lightgbm.__version__"
   ]
  },
  {
   "cell_type": "code",
   "execution_count": 45,
   "metadata": {},
   "outputs": [],
   "source": [
    "def getTopN(DF, N = 3):\n",
    "    resDF = {}\n",
    "    for ID in DF.index:\n",
    "        resDF[ID] = DF.loc[ID,:].sort_values(ascending = False)[:N].index\n",
    "    return pd.DataFrame(resDF).T"
   ]
  },
  {
   "cell_type": "code",
   "execution_count": null,
   "metadata": {},
   "outputs": [],
   "source": []
  },
  {
   "cell_type": "code",
   "execution_count": 46,
   "metadata": {},
   "outputs": [],
   "source": [
    "train_X = pd.read_csv('../../Modeling_240221/TRAIN_DATA/train_X_f8300.csv', index_col=0)\n",
    "train_Y = pd.read_csv('../../Modeling_240221/TRAIN_DATA/train_Y_f8300.csv', index_col=0)\n",
    "tX_1 = pd.read_csv('../../Modeling_240221/TRAIN_DATA/SMC_X_f8300.csv', index_col=0)\n",
    "tY_1 = pd.read_csv('../../Modeling_240221/TRAIN_DATA/SMC_Y_f8300.csv', index_col=0)"
   ]
  },
  {
   "cell_type": "code",
   "execution_count": null,
   "metadata": {},
   "outputs": [],
   "source": []
  },
  {
   "cell_type": "code",
   "execution_count": 48,
   "metadata": {},
   "outputs": [],
   "source": [
    "TCs = ['AdrenalGland', 'BileDuct', 'Bladder', 'Brain', 'Breast', \n",
    "       'Colorectal', 'HeadAndNeck', 'Kidney', 'Liver', \n",
    "       'Lung', 'Ovary', 'Pancreas', 'Prostate', \n",
    "       'Skin', 'Stomach', 'Thyroid','Uterus']"
   ]
  },
  {
   "cell_type": "code",
   "execution_count": 49,
   "metadata": {},
   "outputs": [],
   "source": [
    "len(TCs)\n",
    "train_Y_f1 = train_Y[train_Y.OC_Tissue.isin(TCs)]\n",
    "train_X_f1 = train_X.loc[train_Y_f1.index,:]"
   ]
  },
  {
   "cell_type": "code",
   "execution_count": 51,
   "metadata": {},
   "outputs": [],
   "source": [
    "### OVR ###\n",
    "def mkModel():\n",
    "    clf2 = LogisticRegression(C = 10, penalty = 'l2', max_iter=100, random_state=3492, solver='liblinear', multi_class='ovr')\n",
    "    clf3 = LGBMClassifier(learning_rate=0.01, n_estimators=2000, num_leaves=15, n_jobs=100, random_state=3492)\n",
    "    clf3ovr = OneVsRestClassifier(clf3)\n",
    "    clf7 = SVC(kernel='linear', C = 0.1, probability=True)\n",
    "    clf7ovr = OneVsRestClassifier(clf7, n_jobs=20)\n",
    "\n",
    "    clf_vot_ovr = VotingClassifier(estimators=[('logi', clf2), ('gbm', clf3ovr), ('svc', clf7ovr)], voting='soft')\n",
    "    \n",
    "    return clf_vot_ovr\n"
   ]
  },
  {
   "cell_type": "code",
   "execution_count": 107,
   "metadata": {},
   "outputs": [],
   "source": [
    "### OVR ###\n",
    "def mkModel2():\n",
    "    clf2 = LogisticRegression(C = 10, penalty = 'l2', max_iter=100, random_state=3492, solver='liblinear', multi_class='ovr')\n",
    "    clf3 = LGBMClassifier(learning_rate=0.01, n_estimators=2000, num_leaves=15, n_jobs=100, random_state=3492)\n",
    "    clf7 = SVC(kernel='linear', C = 0.1, probability=True)\n",
    "\n",
    "    clf_vot_ovr = VotingClassifier(estimators=[('logi', clf2), ('gbm', clf3), ('svc', clf7)], voting='soft')\n",
    "    \n",
    "    return clf_vot_ovr\n"
   ]
  },
  {
   "cell_type": "code",
   "execution_count": null,
   "metadata": {},
   "outputs": [],
   "source": []
  },
  {
   "cell_type": "markdown",
   "metadata": {},
   "source": [
    "### Validation OCP <-> TCGA"
   ]
  },
  {
   "cell_type": "code",
   "execution_count": 52,
   "metadata": {},
   "outputs": [],
   "source": [
    "train_Y_f1_OCP = train_Y_f1[train_Y_f1.OC_Source == 'OCP']\n",
    "train_Y_f1_TCGA = train_Y_f1[train_Y_f1.OC_Source == 'TCGA']\n",
    "train_X_f1_OCP = train_X_f1.loc[train_Y_f1_OCP.index,:]\n",
    "train_X_f1_TCGA = train_X_f1.loc[train_Y_f1_TCGA.index,:]"
   ]
  },
  {
   "cell_type": "code",
   "execution_count": 37,
   "metadata": {},
   "outputs": [],
   "source": [
    "m_ocp = mkModel()\n",
    "m_ocp.fit(train_X_f1_OCP, train_Y_f1_OCP.OC_Tissue)\n",
    "pickle.dump(m_ocp, open('outputs/model_ocp.pkl', 'wb'))\n",
    "\n",
    "m_tcga = mkModel()\n",
    "m_tcga.fit(train_X_f1_TCGA, train_Y_f1_TCGA.OC_Tissue)\n",
    "pickle.dump(m_tcga, open('outputs/model_tcga.pkl', 'wb'))"
   ]
  },
  {
   "cell_type": "code",
   "execution_count": 9,
   "metadata": {},
   "outputs": [],
   "source": [
    "m_tcga = pickle.load(open('outputs/model_tcga.pkl', 'rb'))"
   ]
  },
  {
   "cell_type": "code",
   "execution_count": null,
   "metadata": {},
   "outputs": [],
   "source": []
  },
  {
   "cell_type": "code",
   "execution_count": null,
   "metadata": {
    "collapsed": true,
    "jupyter": {
     "outputs_hidden": true
    }
   },
   "outputs": [],
   "source": [
    "aucRes = {}\n",
    "i = 0\n",
    "for ix in train_X_f1.columns:\n",
    "    if i % 100 == 0: print(i)\n",
    "    i = i+1\n",
    "    e_o = train_X_f1.loc[train_Y_f1[train_Y_f1.OC_Source == 'OCP'].index, ix]\n",
    "    e_t = train_X_f1.loc[train_Y_f1[train_Y_f1.OC_Source == 'TCGA'].index, ix]\n",
    "\n",
    "    a = [0]*len(e_o) + [1]*len(e_t); b = list(e_o) + list(e_t)\n",
    "    metrics.roc_auc_score(a, b)\n",
    "\n",
    "    aucRes[ix] = metrics.roc_auc_score(a, b)\n",
    "\n",
    "plfauc = pd.DataFrame([aucRes], index=['AUC']).T"
   ]
  },
  {
   "cell_type": "code",
   "execution_count": 57,
   "metadata": {},
   "outputs": [
    {
     "data": {
      "image/png": "[encoded data removed]",
      "text/plain": [
       "<Figure size 432x288 with 1 Axes>"
      ]
     },
     "metadata": {
      "needs_background": "light"
     },
     "output_type": "display_data"
    }
   ],
   "source": [
    "plt.hist(plfauc.AUC, bins=50)\n",
    "plt.show()"
   ]
  },
  {
   "cell_type": "code",
   "execution_count": 59,
   "metadata": {},
   "outputs": [],
   "source": [
    "pickle.dump(plfauc, open(\"mdls/_DATA_AUC.pkl\", 'wb'))\n"
   ]
  },
  {
   "cell_type": "code",
   "execution_count": 86,
   "metadata": {},
   "outputs": [
    {
     "name": "stdout",
     "output_type": "stream",
     "text": [
      "Tue Mar 12 17:35:47 2024\n",
      "0.05\n",
      "Tue Mar 12 20:28:16 2024\n",
      "0.15\n",
      "Tue Mar 12 23:01:09 2024\n",
      "0.2\n",
      "Wed Mar 13 02:08:56 2024\n",
      "0.25\n",
      "Wed Mar 13 05:55:43 2024\n",
      "0.3\n",
      "Wed Mar 13 10:21:28 2024\n",
      "0.35\n",
      "Wed Mar 13 15:14:49 2024\n",
      "0.4\n",
      "Wed Mar 13 20:35:11 2024\n",
      "0.45\n"
     ]
    }
   ],
   "source": [
    "## AUC cut modeling\n",
    "\n",
    "for cut in [0.05, 0.1, 0.15, 0.2, 0.25, 0.3, 0.35, 0.4, 0.45]:\n",
    "    \n",
    "    print(time.ctime())\n",
    "    \n",
    "    clf2 = mkModel()\n",
    "    \n",
    "    print(cut)\n",
    "    plfauc_f1 = plfauc[(plfauc.AUC > 0.5-cut) & (plfauc.AUC < 0.5+cut)]\n",
    "    FeaSelc = plfauc_f1.index\n",
    "    \n",
    "    cv_scores_rf = cross_val_score(clf2, train_X_f1.loc[:,FeaSelc], train_Y_f1.OC_Tissue, cv=3)\n",
    "    \n",
    "    clf2.fit(train_X_f1.loc[:,FeaSelc], train_Y_f1.OC_Tissue)\n",
    "    \n",
    "    Res = {'auc_cut':cut, 'model':clf2, 'feature':FeaSelc, 'cross_val_score':cv_scores_rf}\n",
    "    \n",
    "    pickle.dump(Res, open(\"mdls/AUC{}_f{}_v{}.pkl\".format(cut, \n",
    "                                                          len(FeaSelc), \n",
    "                                                          round(cv_scores_rf.mean(), 3)), 'wb'))\n",
    "    \n",
    "    "
   ]
  },
  {
   "cell_type": "code",
   "execution_count": 110,
   "metadata": {},
   "outputs": [
    {
     "name": "stdout",
     "output_type": "stream",
     "text": [
      "Fri Mar 22 15:39:06 2024\n",
      "0.01\n",
      "Fri Mar 22 16:24:59 2024\n",
      "0.02\n",
      "Fri Mar 22 17:19:21 2024\n",
      "0.025\n",
      "Fri Mar 22 18:35:30 2024\n",
      "0.03\n"
     ]
    }
   ],
   "source": [
    "## AUC cut modeling\n",
    "\n",
    "for cut in [0.01, 0.02, 0.025, 0.03]:\n",
    "    \n",
    "    print(time.ctime())\n",
    "    \n",
    "    clf2 = mkModel2()\n",
    "    \n",
    "    print(cut)\n",
    "    plfauc_f1 = plfauc[(plfauc.AUC > 0.5-cut) & (plfauc.AUC < 0.5+cut)]\n",
    "    FeaSelc = plfauc_f1.index\n",
    "    \n",
    "    cv_scores_rf = cross_val_score(clf2, train_X_f1.loc[:,FeaSelc], train_Y_f1.OC_Tissue, cv=3)\n",
    "    \n",
    "    clf2.fit(train_X_f1.loc[:,FeaSelc], train_Y_f1.OC_Tissue)\n",
    "    \n",
    "    Res = {'auc_cut':cut, 'model':clf2, 'feature':FeaSelc, 'cross_val_score':cv_scores_rf}\n",
    "    \n",
    "    pickle.dump(Res, open(\"mdls_multi/AUC{}_f{}_v{}.pkl\".format(cut, \n",
    "                                                                len(FeaSelc), \n",
    "                                                                round(cv_scores_rf.mean(), 3)), 'wb'))\n",
    "    \n",
    "    "
   ]
  },
  {
   "cell_type": "code",
   "execution_count": null,
   "metadata": {},
   "outputs": [
    {
     "name": "stdout",
     "output_type": "stream",
     "text": [
      "Wed Mar 20 16:20:09 2024\n",
      "0.05\n",
      "Wed Mar 20 17:15:42 2024\n",
      "0.1\n",
      "Wed Mar 20 19:11:12 2024\n",
      "0.15\n",
      "Wed Mar 20 22:04:20 2024\n",
      "0.2\n",
      "Thu Mar 21 01:42:00 2024\n",
      "0.25\n",
      "Thu Mar 21 06:07:31 2024\n",
      "0.3\n",
      "Thu Mar 21 11:17:13 2024\n",
      "0.35\n",
      "Thu Mar 21 17:12:15 2024\n",
      "0.4\n",
      "Fri Mar 22 02:17:07 2024\n",
      "0.45\n",
      "Fri Mar 22 11:21:14 2024\n",
      "0.5\n"
     ]
    }
   ],
   "source": [
    "## AUC cut modeling\n",
    "\n",
    "for cut in [0.05, 0.1, 0.15, 0.2, 0.25, 0.3, 0.35, 0.4, 0.45, 0.5]:\n",
    "    \n",
    "    print(time.ctime())\n",
    "    \n",
    "    clf2 = mkModel2()\n",
    "    \n",
    "    print(cut)\n",
    "    plfauc_f1 = plfauc[(plfauc.AUC > 0.5-cut) & (plfauc.AUC < 0.5+cut)]\n",
    "    FeaSelc = plfauc_f1.index\n",
    "    \n",
    "    cv_scores_rf = cross_val_score(clf2, train_X_f1.loc[:,FeaSelc], train_Y_f1.OC_Tissue, cv=3)\n",
    "    \n",
    "    clf2.fit(train_X_f1.loc[:,FeaSelc], train_Y_f1.OC_Tissue)\n",
    "    \n",
    "    Res = {'auc_cut':cut, 'model':clf2, 'feature':FeaSelc, 'cross_val_score':cv_scores_rf}\n",
    "    \n",
    "    pickle.dump(Res, open(\"mdls_multi/AUC{}_f{}_v{}.pkl\".format(cut, \n",
    "                                                                len(FeaSelc), \n",
    "                                                                round(cv_scores_rf.mean(), 3)), 'wb'))\n",
    "    \n",
    "    "
   ]
  },
  {
   "cell_type": "code",
   "execution_count": 106,
   "metadata": {},
   "outputs": [
    {
     "name": "stdout",
     "output_type": "stream",
     "text": [
      "Wed Mar 20 10:15:04 2024\n",
      "0.5\n"
     ]
    }
   ],
   "source": [
    "## AUC cut modeling\n",
    "\n",
    "for cut in [0.5]:\n",
    "    \n",
    "    print(time.ctime())\n",
    "    \n",
    "    clf2 = mkModel()\n",
    "    \n",
    "    print(cut)\n",
    "    plfauc_f1 = plfauc[(plfauc.AUC > 0.5-cut) & (plfauc.AUC < 0.5+cut)]\n",
    "    FeaSelc = plfauc_f1.index\n",
    "    \n",
    "    cv_scores_rf = cross_val_score(clf2, train_X_f1.loc[:,FeaSelc], train_Y_f1.OC_Tissue, cv=3)\n",
    "    \n",
    "    clf2.fit(train_X_f1.loc[:,FeaSelc], train_Y_f1.OC_Tissue)\n",
    "    \n",
    "    Res = {'auc_cut':cut, 'model':clf2, 'feature':FeaSelc, 'cross_val_score':cv_scores_rf}\n",
    "    \n",
    "    pickle.dump(Res, open(\"mdls/AUC{}_f{}_v{}.pkl\".format(cut, \n",
    "                                                          len(FeaSelc), \n",
    "                                                          round(cv_scores_rf.mean(), 3)), 'wb'))\n",
    "    \n",
    "    "
   ]
  },
  {
   "cell_type": "code",
   "execution_count": null,
   "metadata": {},
   "outputs": [],
   "source": []
  },
  {
   "cell_type": "code",
   "execution_count": 105,
   "metadata": {},
   "outputs": [
    {
     "name": "stdout",
     "output_type": "stream",
     "text": [
      "Fri Mar 15 16:26:27 2024\n",
      "0.05\n",
      "Fri Mar 15 18:28:23 2024\n",
      "0.1\n",
      "Fri Mar 15 21:52:29 2024\n",
      "0.15\n",
      "Sat Mar 16 02:44:06 2024\n",
      "0.2\n",
      "Sat Mar 16 09:03:10 2024\n",
      "0.25\n",
      "Sat Mar 16 16:32:37 2024\n",
      "0.3\n",
      "Sun Mar 17 01:08:46 2024\n",
      "0.35\n",
      "Sun Mar 17 10:30:38 2024\n",
      "0.4\n",
      "Sun Mar 17 20:50:16 2024\n",
      "0.45\n"
     ]
    }
   ],
   "source": [
    "## AUC cut modeling\n",
    "\n",
    "for cut in [0.05, 0.1, 0.15, 0.2, 0.25, 0.3, 0.35, 0.4, 0.45]:\n",
    "    \n",
    "    print(time.ctime())\n",
    "    \n",
    "    clf2 = mkModel()\n",
    "    \n",
    "    print(cut)\n",
    "    plfauc_f1 = plfauc[(plfauc.AUC > 0.5-cut) & (plfauc.AUC < 0.5+cut)]\n",
    "    FeaSelc = plfauc_f1.index\n",
    "    \n",
    "    cv_scores_rf = cross_val_score(clf2, train_X_f1.loc[:,FeaSelc], train_Y_f1.OC_Cancer, cv=3)\n",
    "    \n",
    "    clf2.fit(train_X_f1.loc[:,FeaSelc], train_Y_f1.OC_Cancer)\n",
    "    \n",
    "    Res = {'auc_cut':cut, 'model':clf2, 'feature':FeaSelc, 'cross_val_score':cv_scores_rf}\n",
    "    \n",
    "    pickle.dump(Res, open(\"mdls_OCcancer/AUC{}_f{}_v{}.pkl\".format(cut, \n",
    "                                                                   len(FeaSelc), \n",
    "                                                                   round(cv_scores_rf.mean(), 3)), 'wb'))\n",
    "    \n",
    "    "
   ]
  },
  {
   "cell_type": "markdown",
   "metadata": {},
   "source": [
    "### Cross validation Total"
   ]
  },
  {
   "cell_type": "code",
   "execution_count": 39,
   "metadata": {},
   "outputs": [],
   "source": [
    "m_cv = mkModel()\n",
    "cv_scores = cross_val_score(m_cv, \n",
    "                            train_X_f1, \n",
    "                            train_Y_f1.OC_Tissue, \n",
    "                            cv=5)\n",
    "pickle.dump(cv_scores, open('outputs/cv_score.pkl', 'wb'))"
   ]
  },
  {
   "cell_type": "markdown",
   "metadata": {},
   "source": [
    "## Final Model"
   ]
  },
  {
   "cell_type": "code",
   "execution_count": 38,
   "metadata": {},
   "outputs": [],
   "source": [
    "m_fin = mkModel()\n",
    "m_fin.fit(train_X_f1, train_Y_f1.OC_Tissue)\n",
    "pickle.dump(m_fin, open('outputs/model_final.pkl', 'wb'))"
   ]
  },
  {
   "cell_type": "markdown",
   "metadata": {},
   "source": [
    "### TCGA <- supportive OCP"
   ]
  },
  {
   "cell_type": "code",
   "execution_count": null,
   "metadata": {},
   "outputs": [],
   "source": [
    "prd_t2o = m_tcga.predict(train_X_f1_OCP)"
   ]
  },
  {
   "cell_type": "code",
   "execution_count": 20,
   "metadata": {},
   "outputs": [
    {
     "name": "stdout",
     "output_type": "stream",
     "text": [
      "Tue Mar 12 11:28:51 2024\n",
      "Tue Mar 12 11:47:35 2024\n"
     ]
    }
   ],
   "source": [
    "print(time.ctime())\n",
    "prd_t2o = m_tcga.predict(train_X_f1_OCP)\n",
    "print(time.ctime())"
   ]
  },
  {
   "cell_type": "code",
   "execution_count": 21,
   "metadata": {},
   "outputs": [],
   "source": [
    "pickle.dump(prd_t2o, open('outputs/pred_t2o.pkl', 'wb'))"
   ]
  },
  {
   "cell_type": "code",
   "execution_count": 24,
   "metadata": {
    "collapsed": true,
    "jupyter": {
     "outputs_hidden": true
    }
   },
   "outputs": [
    {
     "data": {
      "text/html": [
       "<div>\n",
       "<style scoped>\n",
       "    .dataframe tbody tr th:only-of-type {\n",
       "        vertical-align: middle;\n",
       "    }\n",
       "\n",
       "    .dataframe tbody tr th {\n",
       "        vertical-align: top;\n",
       "    }\n",
       "\n",
       "    .dataframe thead th {\n",
       "        text-align: right;\n",
       "    }\n",
       "</style>\n",
       "<table border=\"1\" class=\"dataframe\">\n",
       "  <thead>\n",
       "    <tr style=\"text-align: right;\">\n",
       "      <th></th>\n",
       "      <th>precision</th>\n",
       "      <th>recall</th>\n",
       "      <th>f1-score</th>\n",
       "      <th>support</th>\n",
       "    </tr>\n",
       "  </thead>\n",
       "  <tbody>\n",
       "    <tr>\n",
       "      <th>AdrenalGland</th>\n",
       "      <td>0.803714</td>\n",
       "      <td>0.974277</td>\n",
       "      <td>0.880814</td>\n",
       "      <td>311.000000</td>\n",
       "    </tr>\n",
       "    <tr>\n",
       "      <th>Bladder</th>\n",
       "      <td>0.867347</td>\n",
       "      <td>0.822581</td>\n",
       "      <td>0.844371</td>\n",
       "      <td>310.000000</td>\n",
       "    </tr>\n",
       "    <tr>\n",
       "      <th>Brain</th>\n",
       "      <td>0.997585</td>\n",
       "      <td>0.946955</td>\n",
       "      <td>0.971611</td>\n",
       "      <td>3054.000000</td>\n",
       "    </tr>\n",
       "    <tr>\n",
       "      <th>Breast</th>\n",
       "      <td>0.964801</td>\n",
       "      <td>0.988995</td>\n",
       "      <td>0.976748</td>\n",
       "      <td>5543.000000</td>\n",
       "    </tr>\n",
       "    <tr>\n",
       "      <th>Colorectal</th>\n",
       "      <td>0.998428</td>\n",
       "      <td>0.620039</td>\n",
       "      <td>0.765001</td>\n",
       "      <td>3074.000000</td>\n",
       "    </tr>\n",
       "    <tr>\n",
       "      <th>HeadAndNeck</th>\n",
       "      <td>0.942761</td>\n",
       "      <td>0.450161</td>\n",
       "      <td>0.609358</td>\n",
       "      <td>622.000000</td>\n",
       "    </tr>\n",
       "    <tr>\n",
       "      <th>Kidney</th>\n",
       "      <td>0.772152</td>\n",
       "      <td>0.856742</td>\n",
       "      <td>0.812250</td>\n",
       "      <td>356.000000</td>\n",
       "    </tr>\n",
       "    <tr>\n",
       "      <th>Liver</th>\n",
       "      <td>0.948837</td>\n",
       "      <td>0.987893</td>\n",
       "      <td>0.967972</td>\n",
       "      <td>413.000000</td>\n",
       "    </tr>\n",
       "    <tr>\n",
       "      <th>Lung</th>\n",
       "      <td>0.836820</td>\n",
       "      <td>0.980829</td>\n",
       "      <td>0.903120</td>\n",
       "      <td>2243.000000</td>\n",
       "    </tr>\n",
       "    <tr>\n",
       "      <th>Ovary</th>\n",
       "      <td>0.978287</td>\n",
       "      <td>0.709536</td>\n",
       "      <td>0.822515</td>\n",
       "      <td>1143.000000</td>\n",
       "    </tr>\n",
       "    <tr>\n",
       "      <th>Pancreas</th>\n",
       "      <td>0.762136</td>\n",
       "      <td>0.758454</td>\n",
       "      <td>0.760291</td>\n",
       "      <td>207.000000</td>\n",
       "    </tr>\n",
       "    <tr>\n",
       "      <th>Prostate</th>\n",
       "      <td>0.978632</td>\n",
       "      <td>0.927126</td>\n",
       "      <td>0.952183</td>\n",
       "      <td>247.000000</td>\n",
       "    </tr>\n",
       "    <tr>\n",
       "      <th>Skin</th>\n",
       "      <td>0.994624</td>\n",
       "      <td>0.629252</td>\n",
       "      <td>0.770833</td>\n",
       "      <td>294.000000</td>\n",
       "    </tr>\n",
       "    <tr>\n",
       "      <th>Stomach</th>\n",
       "      <td>0.417734</td>\n",
       "      <td>0.921739</td>\n",
       "      <td>0.574915</td>\n",
       "      <td>920.000000</td>\n",
       "    </tr>\n",
       "    <tr>\n",
       "      <th>Thyroid</th>\n",
       "      <td>1.000000</td>\n",
       "      <td>0.802013</td>\n",
       "      <td>0.890130</td>\n",
       "      <td>298.000000</td>\n",
       "    </tr>\n",
       "    <tr>\n",
       "      <th>Uterus</th>\n",
       "      <td>0.423024</td>\n",
       "      <td>0.947205</td>\n",
       "      <td>0.584851</td>\n",
       "      <td>322.000000</td>\n",
       "    </tr>\n",
       "    <tr>\n",
       "      <th>accuracy</th>\n",
       "      <td>0.868161</td>\n",
       "      <td>0.868161</td>\n",
       "      <td>0.868161</td>\n",
       "      <td>0.868161</td>\n",
       "    </tr>\n",
       "    <tr>\n",
       "      <th>macro avg</th>\n",
       "      <td>0.855430</td>\n",
       "      <td>0.832737</td>\n",
       "      <td>0.817935</td>\n",
       "      <td>19357.000000</td>\n",
       "    </tr>\n",
       "    <tr>\n",
       "      <th>weighted avg</th>\n",
       "      <td>0.916530</td>\n",
       "      <td>0.868161</td>\n",
       "      <td>0.873286</td>\n",
       "      <td>19357.000000</td>\n",
       "    </tr>\n",
       "  </tbody>\n",
       "</table>\n",
       "</div>"
      ],
      "text/plain": [
       "              precision    recall  f1-score       support\n",
       "AdrenalGland   0.803714  0.974277  0.880814    311.000000\n",
       "Bladder        0.867347  0.822581  0.844371    310.000000\n",
       "Brain          0.997585  0.946955  0.971611   3054.000000\n",
       "Breast         0.964801  0.988995  0.976748   5543.000000\n",
       "Colorectal     0.998428  0.620039  0.765001   3074.000000\n",
       "HeadAndNeck    0.942761  0.450161  0.609358    622.000000\n",
       "Kidney         0.772152  0.856742  0.812250    356.000000\n",
       "Liver          0.948837  0.987893  0.967972    413.000000\n",
       "Lung           0.836820  0.980829  0.903120   2243.000000\n",
       "Ovary          0.978287  0.709536  0.822515   1143.000000\n",
       "Pancreas       0.762136  0.758454  0.760291    207.000000\n",
       "Prostate       0.978632  0.927126  0.952183    247.000000\n",
       "Skin           0.994624  0.629252  0.770833    294.000000\n",
       "Stomach        0.417734  0.921739  0.574915    920.000000\n",
       "Thyroid        1.000000  0.802013  0.890130    298.000000\n",
       "Uterus         0.423024  0.947205  0.584851    322.000000\n",
       "accuracy       0.868161  0.868161  0.868161      0.868161\n",
       "macro avg      0.855430  0.832737  0.817935  19357.000000\n",
       "weighted avg   0.916530  0.868161  0.873286  19357.000000"
      ]
     },
     "execution_count": 24,
     "metadata": {},
     "output_type": "execute_result"
    }
   ],
   "source": [
    "pd.DataFrame(classification_report(train_Y_f1_OCP.OC_Tissue, prd_t2o, output_dict=True)).T"
   ]
  },
  {
   "cell_type": "code",
   "execution_count": 26,
   "metadata": {},
   "outputs": [],
   "source": [
    "train_Y_f1_OCP_support = train_Y_f1_OCP[train_Y_f1_OCP.OC_Tissue == prd_t2o]"
   ]
  },
  {
   "cell_type": "code",
   "execution_count": 29,
   "metadata": {},
   "outputs": [],
   "source": [
    "train_X_f1_OCP_support = train_X_f1_OCP.loc[train_Y_f1_OCP_support.index,:]"
   ]
  },
  {
   "cell_type": "code",
   "execution_count": 34,
   "metadata": {},
   "outputs": [],
   "source": [
    "train_X_Sup = pd.concat([train_X_f1_TCGA,train_X_f1_OCP_support], axis = 0)\n",
    "train_Y_Sup = pd.concat([train_Y_f1_TCGA,train_Y_f1_OCP_support], axis = 0)"
   ]
  },
  {
   "cell_type": "code",
   "execution_count": 38,
   "metadata": {},
   "outputs": [
    {
     "data": {
      "text/plain": [
       "True    25169\n",
       "dtype: int64"
      ]
     },
     "execution_count": 38,
     "metadata": {},
     "output_type": "execute_result"
    }
   ],
   "source": [
    "pd.Series(train_Y_Sup.index == train_X_Sup.index).value_counts()"
   ]
  },
  {
   "cell_type": "code",
   "execution_count": 39,
   "metadata": {},
   "outputs": [],
   "source": [
    "m_fin_sup = mkModel()\n",
    "m_fin_sup.fit(train_X_Sup, train_Y_Sup.OC_Tissue)\n",
    "pickle.dump(m_fin_sup, open('outputs/model_final_sup.pkl', 'wb'))"
   ]
  },
  {
   "cell_type": "code",
   "execution_count": null,
   "metadata": {},
   "outputs": [],
   "source": [
    "m_fin_sup"
   ]
  },
  {
   "cell_type": "code",
   "execution_count": 41,
   "metadata": {},
   "outputs": [],
   "source": [
    "ve_= getTopN(pd.DataFrame(m_fin_sup.predict_proba(tX_1.T), \n",
    "                          columns=m_fin_sup.classes_, \n",
    "                          index = tX_1.columns), N=4)"
   ]
  },
  {
   "cell_type": "code",
   "execution_count": 43,
   "metadata": {},
   "outputs": [],
   "source": [
    "ve_.to_csv('outputs/mf_sup_pred_smc.csv')"
   ]
  },
  {
   "cell_type": "code",
   "execution_count": null,
   "metadata": {},
   "outputs": [],
   "source": []
  },
  {
   "cell_type": "markdown",
   "metadata": {},
   "source": [
    "## External validation"
   ]
  },
  {
   "cell_type": "code",
   "execution_count": 49,
   "metadata": {},
   "outputs": [],
   "source": [
    "ve_= getTopN(pd.DataFrame(m_fin.predict_proba(tX_1.T), \n",
    "                          columns=m_fin.classes_, \n",
    "                          index = tX_1.columns), N=4)"
   ]
  },
  {
   "cell_type": "code",
   "execution_count": 51,
   "metadata": {},
   "outputs": [],
   "source": [
    "ve_.to_csv('outputs/mf_pred_smc.csv')"
   ]
  },
  {
   "cell_type": "code",
   "execution_count": 3,
   "metadata": {},
   "outputs": [
    {
     "data": {
      "text/html": [
       "<div>\n",
       "<style scoped>\n",
       "    .dataframe tbody tr th:only-of-type {\n",
       "        vertical-align: middle;\n",
       "    }\n",
       "\n",
       "    .dataframe tbody tr th {\n",
       "        vertical-align: top;\n",
       "    }\n",
       "\n",
       "    .dataframe thead th {\n",
       "        text-align: right;\n",
       "    }\n",
       "</style>\n",
       "<table border=\"1\" class=\"dataframe\">\n",
       "  <thead>\n",
       "    <tr style=\"text-align: right;\">\n",
       "      <th></th>\n",
       "      <th>Unnamed: 0</th>\n",
       "      <th>0</th>\n",
       "      <th>1</th>\n",
       "      <th>2</th>\n",
       "      <th>3</th>\n",
       "    </tr>\n",
       "  </thead>\n",
       "  <tbody>\n",
       "    <tr>\n",
       "      <th>0</th>\n",
       "      <td>CUP76</td>\n",
       "      <td>Lung</td>\n",
       "      <td>Colorectal</td>\n",
       "      <td>Kidney</td>\n",
       "      <td>Prostate</td>\n",
       "    </tr>\n",
       "    <tr>\n",
       "      <th>1</th>\n",
       "      <td>CUP77</td>\n",
       "      <td>Colorectal</td>\n",
       "      <td>Stomach</td>\n",
       "      <td>Pancreas</td>\n",
       "      <td>Ovary</td>\n",
       "    </tr>\n",
       "    <tr>\n",
       "      <th>2</th>\n",
       "      <td>CUP78</td>\n",
       "      <td>Lung</td>\n",
       "      <td>Colorectal</td>\n",
       "      <td>Kidney</td>\n",
       "      <td>Pancreas</td>\n",
       "    </tr>\n",
       "    <tr>\n",
       "      <th>3</th>\n",
       "      <td>CUP79</td>\n",
       "      <td>Colorectal</td>\n",
       "      <td>Stomach</td>\n",
       "      <td>Pancreas</td>\n",
       "      <td>Brain</td>\n",
       "    </tr>\n",
       "    <tr>\n",
       "      <th>4</th>\n",
       "      <td>CUP81</td>\n",
       "      <td>Lung</td>\n",
       "      <td>Colorectal</td>\n",
       "      <td>Ovary</td>\n",
       "      <td>Kidney</td>\n",
       "    </tr>\n",
       "    <tr>\n",
       "      <th>...</th>\n",
       "      <td>...</td>\n",
       "      <td>...</td>\n",
       "      <td>...</td>\n",
       "      <td>...</td>\n",
       "      <td>...</td>\n",
       "    </tr>\n",
       "    <tr>\n",
       "      <th>81</th>\n",
       "      <td>Cup-71</td>\n",
       "      <td>Stomach</td>\n",
       "      <td>Pancreas</td>\n",
       "      <td>Bladder</td>\n",
       "      <td>Breast</td>\n",
       "    </tr>\n",
       "    <tr>\n",
       "      <th>82</th>\n",
       "      <td>Cup-72</td>\n",
       "      <td>Prostate</td>\n",
       "      <td>Bladder</td>\n",
       "      <td>Stomach</td>\n",
       "      <td>Pancreas</td>\n",
       "    </tr>\n",
       "    <tr>\n",
       "      <th>83</th>\n",
       "      <td>Cup-73</td>\n",
       "      <td>Liver</td>\n",
       "      <td>Stomach</td>\n",
       "      <td>Lung</td>\n",
       "      <td>Brain</td>\n",
       "    </tr>\n",
       "    <tr>\n",
       "      <th>84</th>\n",
       "      <td>Cup-74</td>\n",
       "      <td>Ovary</td>\n",
       "      <td>Stomach</td>\n",
       "      <td>Breast</td>\n",
       "      <td>Kidney</td>\n",
       "    </tr>\n",
       "    <tr>\n",
       "      <th>85</th>\n",
       "      <td>Cup-75</td>\n",
       "      <td>Stomach</td>\n",
       "      <td>Bladder</td>\n",
       "      <td>Lung</td>\n",
       "      <td>HeadAndNeck</td>\n",
       "    </tr>\n",
       "  </tbody>\n",
       "</table>\n",
       "<p>86 rows × 5 columns</p>\n",
       "</div>"
      ],
      "text/plain": [
       "   Unnamed: 0           0           1         2            3\n",
       "0       CUP76        Lung  Colorectal    Kidney     Prostate\n",
       "1       CUP77  Colorectal     Stomach  Pancreas        Ovary\n",
       "2       CUP78        Lung  Colorectal    Kidney     Pancreas\n",
       "3       CUP79  Colorectal     Stomach  Pancreas        Brain\n",
       "4       CUP81        Lung  Colorectal     Ovary       Kidney\n",
       "..        ...         ...         ...       ...          ...\n",
       "81     Cup-71     Stomach    Pancreas   Bladder       Breast\n",
       "82     Cup-72    Prostate     Bladder   Stomach     Pancreas\n",
       "83     Cup-73       Liver     Stomach      Lung        Brain\n",
       "84     Cup-74       Ovary     Stomach    Breast       Kidney\n",
       "85     Cup-75     Stomach     Bladder      Lung  HeadAndNeck\n",
       "\n",
       "[86 rows x 5 columns]"
      ]
     },
     "execution_count": 3,
     "metadata": {},
     "output_type": "execute_result"
    }
   ],
   "source": [
    "pd.read_csv('outputs/mf_pred_smc.csv')"
   ]
  },
  {
   "cell_type": "code",
   "execution_count": null,
   "metadata": {},
   "outputs": [],
   "source": []
  }
 ],
 "metadata": {
  "kernelspec": {
   "display_name": "tf1",
   "language": "python",
   "name": "tf1"
  },
  "language_info": {
   "codemirror_mode": {
    "name": "ipython",
    "version": 3
   },
   "file_extension": ".py",
   "mimetype": "text/x-python",
   "name": "python",
   "nbconvert_exporter": "python",
   "pygments_lexer": "ipython3",
   "version": "3.7.11"
  }
 },
 "nbformat": 4,
 "nbformat_minor": 4
}
